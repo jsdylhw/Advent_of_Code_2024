{
 "cells": [
  {
   "cell_type": "code",
   "id": "74d6a00454191b2d",
   "metadata": {
    "collapsed": true,
    "ExecuteTime": {
     "end_time": "2024-12-03T07:48:36.734868Z",
     "start_time": "2024-12-03T07:48:36.710979Z"
    }
   },
   "source": [
    "def solve(line):\n",
    "    ans = 0\n",
    "    i = 0\n",
    "    l = len(line)\n",
    "    while i < len(line): \n",
    "        if i + 4 <= l and line[i:i + 4] == 'mul(':\n",
    "            j = i + 4     \n",
    "            if line[j:j + 3].isdigit():\n",
    "                j = j + 3\n",
    "            elif line[j:j + 2].isdigit():\n",
    "                j = j + 2\n",
    "            elif line[j:j + 1].isdigit():\n",
    "                j = j + 1\n",
    "            if line[j] == ',':\n",
    "       \n",
    "                if line[j + 1:j + 4].isdigit() and line[j + 4]  == ')':\n",
    "                    ans += int(line[j + 1:j + 4]) * int(line[i + 4: j])\n",
    "                elif line[j + 1:j + 3].isdigit() and line[j + 3]  == ')':\n",
    "                    ans += int(line[j + 1:j + 3]) * int(line[i + 4: j])\n",
    "                elif line[j + 1:j + 2].isdigit() and line[j + 2]  == ')':\n",
    "                    ans += int(line[j + 1:j + 2]) * int(line[i + 4: j])\n",
    "        i += 1\n",
    "    return ans\n",
    "s = 0\n",
    "\n",
    "with open('data.txt') as file:\n",
    "    for line in file:\n",
    "        s += solve(line)\n",
    "s"
   ],
   "outputs": [
    {
     "data": {
      "text/plain": [
       "178886550"
      ]
     },
     "execution_count": 89,
     "metadata": {},
     "output_type": "execute_result"
    }
   ],
   "execution_count": 89
  },
  {
   "metadata": {},
   "cell_type": "code",
   "outputs": [
    {
     "data": {
      "text/plain": [
       "True"
      ]
     },
     "execution_count": 9,
     "metadata": {},
     "output_type": "execute_result"
    }
   ],
   "execution_count": 9,
   "source": "'11'.isdigit()",
   "id": "d8b0846505cfabed"
  },
  {
   "metadata": {
    "ExecuteTime": {
     "end_time": "2024-12-03T07:19:54.060789Z",
     "start_time": "2024-12-03T07:19:54.054337Z"
    }
   },
   "cell_type": "code",
   "source": "",
   "id": "61a4296f53983cb1",
   "outputs": [],
   "execution_count": 4
  },
  {
   "metadata": {},
   "cell_type": "code",
   "outputs": [],
   "execution_count": null,
   "source": "",
   "id": "7e167ff0dec707c5"
  }
 ],
 "metadata": {
  "kernelspec": {
   "display_name": "Python 3",
   "language": "python",
   "name": "python3"
  },
  "language_info": {
   "codemirror_mode": {
    "name": "ipython",
    "version": 2
   },
   "file_extension": ".py",
   "mimetype": "text/x-python",
   "name": "python",
   "nbconvert_exporter": "python",
   "pygments_lexer": "ipython2",
   "version": "2.7.6"
  }
 },
 "nbformat": 4,
 "nbformat_minor": 5
}
