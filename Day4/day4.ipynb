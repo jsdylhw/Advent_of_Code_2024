{
 "cells": [
  {
   "cell_type": "code",
   "id": "initial_id",
   "metadata": {
    "collapsed": true,
    "ExecuteTime": {
     "end_time": "2024-12-04T07:24:20.178734Z",
     "start_time": "2024-12-04T07:24:20.166856Z"
    }
   },
   "source": [
    "n, m = 0, 0\n",
    "data = []\n",
    "with open('data.txt', 'r') as f:\n",
    "    for line in f:\n",
    "        data.append(list(line.strip()))\n",
    "        n += 1\n",
    "    m = len(line)\n"
   ],
   "outputs": [],
   "execution_count": 35
  },
  {
   "metadata": {
    "ExecuteTime": {
     "end_time": "2024-12-04T07:27:02.272368Z",
     "start_time": "2024-12-04T07:27:02.243384Z"
    }
   },
   "cell_type": "code",
   "source": [
    "\n",
    "n ,m = len(data), len(data[0])\n",
    "print(n, m)\n",
    "def search(i, j):\n",
    "    l = [data[i - 1][j - 1],\n",
    "         data[i - 1][j + 1],\n",
    "         data[i + 1][j - 1],\n",
    "         data[i + 1][j + 1]]\n",
    "    if sorted(l) == ['M', 'M', 'S', 'S'] and (data[i - 1][j - 1] == data[i - 1][j + 1] or data[i - 1][j - 1] == data[i + 1][j - 1]):\n",
    "        return 1\n",
    "    else:\n",
    "        return 0\n",
    "solu = 0\n",
    "for i in range(n):\n",
    "    for j in range(m):\n",
    "        if data[i][j] == 'A' and 1 <= i < n - 1 and 1 <= j < m - 1:\n",
    "            solu += search(i,j)\n",
    "print(solu)"
   ],
   "id": "57a5a1bf54be1542",
   "outputs": [
    {
     "name": "stdout",
     "output_type": "stream",
     "text": [
      "140 140\n"
     ]
    },
    {
     "data": {
      "text/plain": [
       "1923"
      ]
     },
     "execution_count": 39,
     "metadata": {},
     "output_type": "execute_result"
    }
   ],
   "execution_count": 39
  },
  {
   "metadata": {
    "ExecuteTime": {
     "end_time": "2024-12-04T07:02:14.867196Z",
     "start_time": "2024-12-04T07:02:14.845910Z"
    }
   },
   "cell_type": "code",
   "source": [
    "t = [['M', 'M', 'M', 'S', 'X', 'X', 'M', 'A', 'S', 'M'],\n",
    " ['M', 'S', 'A', 'M', 'X', 'M', 'S', 'M', 'S', 'A'],\n",
    " ['A', 'M', 'X', 'S', 'X', 'M', 'A', 'A', 'M', 'M'],\n",
    " ['M', 'S', 'A', 'M', 'A', 'S', 'M', 'S', 'M', 'X'],\n",
    " ['X', 'M', 'A', 'S', 'A', 'M', 'X', 'A', 'M', 'M'],\n",
    " ['X', 'X', 'A', 'M', 'M', 'X', 'X', 'A', 'M', 'A'],\n",
    " ['S', 'M', 'S', 'M', 'S', 'A', 'S', 'X', 'S', 'S'],\n",
    " ['S', 'A', 'X', 'A', 'M', 'A', 'S', 'A', 'A', 'A'],\n",
    " ['M', 'A', 'M', 'M', 'M', 'X', 'M', 'M', 'M', 'M'],\n",
    " ['M', 'X', 'M', 'X', 'A', 'X', 'M', 'A', 'S', 'X']]\n"
   ],
   "id": "bb08263c9ac25dfa",
   "outputs": [],
   "execution_count": 11
  },
  {
   "metadata": {
    "ExecuteTime": {
     "end_time": "2024-12-04T07:23:39.500160Z",
     "start_time": "2024-12-04T07:23:39.489785Z"
    }
   },
   "cell_type": "code",
   "source": [
    "l = ['M','M','S']\n",
    "sorted(l)"
   ],
   "id": "a435e55ccffee836",
   "outputs": [
    {
     "data": {
      "text/plain": [
       "['M', 'M', 'S']"
      ]
     },
     "execution_count": 31,
     "metadata": {},
     "output_type": "execute_result"
    }
   ],
   "execution_count": 31
  },
  {
   "metadata": {},
   "cell_type": "code",
   "outputs": [],
   "execution_count": null,
   "source": "",
   "id": "1a052b64b3bf8a8b"
  }
 ],
 "metadata": {
  "kernelspec": {
   "display_name": "Python 3",
   "language": "python",
   "name": "python3"
  },
  "language_info": {
   "codemirror_mode": {
    "name": "ipython",
    "version": 2
   },
   "file_extension": ".py",
   "mimetype": "text/x-python",
   "name": "python",
   "nbconvert_exporter": "python",
   "pygments_lexer": "ipython2",
   "version": "2.7.6"
  }
 },
 "nbformat": 4,
 "nbformat_minor": 5
}
